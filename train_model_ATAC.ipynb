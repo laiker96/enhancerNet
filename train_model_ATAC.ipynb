{
 "cells": [
  {
   "cell_type": "code",
   "execution_count": 1,
   "id": "b8a78dee-9f74-4602-80d8-7a6796d5c302",
   "metadata": {
    "tags": []
   },
   "outputs": [],
   "source": [
    "import os\n",
    "import math\n",
    "from pathlib import Path\n",
    "import numpy as np\n",
    "import pandas as pd\n",
    "import torch\n",
    "import torch.nn as nn\n",
    "import torch.optim as optim\n",
    "from torchinfo import summary\n",
    "from optimization import (SequenceSignal, \n",
    "                          transformer_model, \n",
    "                          train_val_loops)\n",
    "import matplotlib.pyplot as plt\n",
    "import seaborn as sns\n",
    "import pickle\n",
    "from scipy.stats import pearsonr\n",
    "from sklearn.metrics import (precision_score, recall_score, auc, \n",
    "                             precision_recall_curve, PrecisionRecallDisplay)"
   ]
  },
  {
   "cell_type": "markdown",
   "id": "9b087b05-6a02-4231-9252-88be4ca5f3be",
   "metadata": {},
   "source": [
    "## Train the CNN + Transformer model"
   ]
  },
  {
   "cell_type": "code",
   "execution_count": 2,
   "id": "3684c057-b650-4ba3-b3da-2095aa062199",
   "metadata": {},
   "outputs": [],
   "source": [
    "# Global variables\n",
    "DATA_DIR=Path('../net_output/')\n",
    "X_TRAIN_PATH = DATA_DIR.joinpath('dataset_1kb_300bp_train_augmented_encoding.npy')\n",
    "Y_TRAIN_PATH = DATA_DIR.joinpath('train_target_Z_norm.npy')\n",
    "X_VAL_PATH = DATA_DIR.joinpath('dataset_1kb_300bp_val_encoding.npy')\n",
    "Y_VAL_PATH = DATA_DIR.joinpath('val_target.npy')\n",
    "N_VAL_EXAMPLES = np.load(Y_VAL_PATH).shape[0]\n",
    "N_TRAIN_EXAMPLES = np.load(Y_TRAIN_PATH).shape[0]\n",
    "Z_SCORE_INVERSE_MEANS = DATA_DIR.joinpath('means.npy')\n",
    "Z_SCORE_INVERSE_STD = DATA_DIR.joinpath('stds.npy')\n",
    "\n",
    "BATCH_SIZE = 256\n",
    "DEVICE = torch.device(\"cuda\" if torch.cuda.is_available() else \"cpu\")\n",
    "\n",
    "dataloaders = SequenceSignal.load_dataset(X_TRAIN_PATH, \n",
    "                                          Y_TRAIN_PATH, \n",
    "                                          X_VAL_PATH, \n",
    "                                          Y_VAL_PATH, \n",
    "                                          BATCH_SIZE, \n",
    "                                          device = DEVICE)"
   ]
  },
  {
   "cell_type": "code",
   "execution_count": 3,
   "id": "0e13a4be-93bc-4140-8157-7308d9520eee",
   "metadata": {},
   "outputs": [
    {
     "data": {
      "text/plain": [
       "==========================================================================================\n",
       "Layer (type:depth-idx)                                            Param #\n",
       "==========================================================================================\n",
       "TransformerCNNMixtureModel                                        --\n",
       "├─ModuleList: 1-1                                                 --\n",
       "│    └─Sequential: 2-1                                            --\n",
       "│    │    └─ConvPoolingBlock: 3-1                                 7,936\n",
       "│    └─Sequential: 2-2                                            --\n",
       "│    │    └─ConvPoolingBlock: 3-2                                 46,260\n",
       "│    └─Sequential: 2-3                                            --\n",
       "│    │    └─ConvPoolingBlock: 3-3                                 18,180\n",
       "│    └─Sequential: 2-4                                            --\n",
       "│    │    └─ConvPoolingBlock: 3-4                                 21,960\n",
       "├─PositionalEncoding: 1-2                                         --\n",
       "├─TransformerEncoder: 1-3                                         --\n",
       "│    └─ModuleList: 2-5                                            --\n",
       "│    │    └─TransformerEncoderLayer: 3-5                          120,376\n",
       "│    │    └─TransformerEncoderLayer: 3-6                          120,376\n",
       "├─ModuleList: 1-4                                                 --\n",
       "│    └─LinearBlock: 2-6                                           --\n",
       "│    │    └─Sequential: 3-7                                       61,696\n",
       "│    └─LinearBlock: 2-7                                           --\n",
       "│    │    └─Sequential: 3-8                                       65,792\n",
       "├─Linear: 1-5                                                     2,313\n",
       "==========================================================================================\n",
       "Total params: 464,889\n",
       "Trainable params: 464,889\n",
       "Non-trainable params: 0\n",
       "=========================================================================================="
      ]
     },
     "execution_count": 3,
     "metadata": {},
     "output_type": "execute_result"
    }
   ],
   "source": [
    "N_EPOCHS = 30\n",
    "PATIENCE = 20\n",
    "OUTPUT_SHAPE = 9\n",
    "CRITERION = torch.nn.MSELoss()\n",
    "CHECKPOINT_NAME = DATA_DIR.joinpath('best_model_ATAC.pth')\n",
    "\n",
    "model = transformer_model.TransformerCNNMixtureModel(n_conv_layers = 4, \n",
    "                                                     n_filters = [256, 60, 60, 120], \n",
    "                                                     kernel_sizes = [7, 3, 5, 3], \n",
    "                                                     dilation = [1, 1, 1, 1], \n",
    "                                                     drop_conv = 0.1, \n",
    "                                                     n_fc_layers = 2, \n",
    "                                                     drop_fc = 0.4, \n",
    "                                                     n_neurons = [256, 256], \n",
    "                                                     output_size = OUTPUT_SHAPE, \n",
    "                                                     drop_transformer=0.2, \n",
    "                                                     input_size=4, \n",
    "                                                     n_encoder_layers = 2, \n",
    "                                                     n_heads=8, \n",
    "                                                     n_transformer_FC_layers=256)\n",
    "\n",
    "model.to(device=DEVICE)\n",
    "summary(model)"
   ]
  },
  {
   "cell_type": "code",
   "execution_count": 4,
   "id": "c90fd169",
   "metadata": {},
   "outputs": [
    {
     "name": "stdout",
     "output_type": "stream",
     "text": [
      "Adam (\n",
      "Parameter Group 0\n",
      "    amsgrad: False\n",
      "    base_momentum: 0.85\n",
      "    betas: (0.95, 0.999)\n",
      "    capturable: False\n",
      "    decoupled_weight_decay: False\n",
      "    differentiable: False\n",
      "    eps: 1e-08\n",
      "    foreach: None\n",
      "    fused: None\n",
      "    initial_lr: 4e-05\n",
      "    lr: 4e-05\n",
      "    max_lr: 0.001\n",
      "    max_momentum: 0.95\n",
      "    maximize: False\n",
      "    min_lr: 4e-09\n",
      "    weight_decay: 0.0001\n",
      ")\n"
     ]
    }
   ],
   "source": [
    "optimizer = torch.optim.Adam(params = model.parameters(), lr = 1e-3, weight_decay = 1e-4)\n",
    "lr_scheduler = optim.lr_scheduler.OneCycleLR(optimizer, \n",
    "                                             epochs = N_EPOCHS, \n",
    "                                             max_lr = 1e-3, \n",
    "                                             steps_per_epoch = math.ceil(N_TRAIN_EXAMPLES / dataloaders[0].batch_size), \n",
    "                                             pct_start = 0.1, \n",
    "                                             anneal_strategy = 'linear')\n",
    "print(optimizer)"
   ]
  },
  {
   "cell_type": "code",
   "execution_count": 6,
   "id": "ce811fba-4c0c-4c52-a788-131782841931",
   "metadata": {},
   "outputs": [],
   "source": [
    "if not os.path.exists(CHECKPOINT_NAME):\n",
    "    \n",
    "    output = train_val_loops.train_N_epochs(model, optimizer, \n",
    "                                            criterion = CRITERION, \n",
    "                                            train_loader = dataloaders[0], \n",
    "                                            valid_loader = dataloaders[1], \n",
    "                                            num_epochs = N_EPOCHS, \n",
    "                                            patience = PATIENCE, \n",
    "                                            model_path = CHECKPOINT_NAME, \n",
    "                                            lr_scheduler = lr_scheduler, \n",
    "                                            means_path = Z_SCORE_INVERSE_MEANS, \n",
    "                                            stds_path = Z_SCORE_INVERSE_STD, \n",
    "                                            DEVICE = DEVICE)\n",
    "else:\n",
    "    \n",
    "    training_state = torch.load(CHECKPOINT_NAME, \n",
    "                                weights_only = True, \n",
    "                                map_location = DEVICE)\n",
    "    \n",
    "    optimizer.load_state_dict(training_state['optimizer'])\n",
    "    lr_scheduler.load_state_dict(training_state['lr_sched'])\n",
    "    model.load_state_dict(training_state['network'])\n",
    "    best_valid_loss = training_state['best_valid_loss']"
   ]
  },
  {
   "cell_type": "code",
   "execution_count": 8,
   "id": "ad9fe0b0-90e5-4753-b491-752e0a3ff810",
   "metadata": {},
   "outputs": [
    {
     "name": "stdout",
     "output_type": "stream",
     "text": [
      "tensor(1.1116, device='cuda:0')\n"
     ]
    }
   ],
   "source": [
    "# Load mean and std used for z-score normalization\n",
    "Y_PREDICT_PATH = DATA_DIR.joinpath('y_predict_ATAC.npy')\n",
    "means = torch.from_numpy(np.load(Z_SCORE_INVERSE_MEANS)).float().to(DEVICE)\n",
    "stds = torch.from_numpy(np.load(Z_SCORE_INVERSE_STD)).float().to(DEVICE)\n",
    "\n",
    "model.eval()\n",
    "y_predict = torch.zeros((N_VAL_EXAMPLES, OUTPUT_SHAPE), device = DEVICE)\n",
    "y_true = torch.zeros((N_VAL_EXAMPLES, OUTPUT_SHAPE), device = DEVICE)\n",
    "\n",
    "with torch.inference_mode():\n",
    "    \n",
    "    for i, data in enumerate(dataloaders[1], 0):\n",
    "        inputs, labels = data\n",
    "        outputs = model(inputs)\n",
    "\n",
    "        outputs_denorm = outputs * stds + means\n",
    "\n",
    "        start_idx = i * BATCH_SIZE\n",
    "        end_idx = start_idx + BATCH_SIZE\n",
    "\n",
    "        y_predict[start_idx:end_idx] = outputs_denorm\n",
    "        y_true[start_idx:end_idx] = labels\n",
    "\n",
    "y_true_array = y_true.cpu().numpy()\n",
    "y_predict_array = y_predict.cpu().numpy()\n",
    "\n",
    "print(CRITERION(y_predict, y_true))\n",
    "np.save(Y_PREDICT_PATH, y_predict_array)"
   ]
  },
  {
   "cell_type": "code",
   "execution_count": 9,
   "id": "8864bc22-ca82-4117-9792-8c12718e25ab",
   "metadata": {},
   "outputs": [
    {
     "name": "stdout",
     "output_type": "stream",
     "text": [
      "PearsonRResult(statistic=np.float32(0.62550163), pvalue=np.float64(0.0))\n",
      "PearsonRResult(statistic=np.float32(0.6305301), pvalue=np.float64(0.0))\n",
      "PearsonRResult(statistic=np.float32(0.65825164), pvalue=np.float64(0.0))\n",
      "PearsonRResult(statistic=np.float32(0.6482866), pvalue=np.float64(0.0))\n",
      "PearsonRResult(statistic=np.float32(0.62678957), pvalue=np.float64(0.0))\n",
      "PearsonRResult(statistic=np.float32(0.67835665), pvalue=np.float64(0.0))\n",
      "PearsonRResult(statistic=np.float32(0.67723745), pvalue=np.float64(0.0))\n",
      "PearsonRResult(statistic=np.float32(0.6702812), pvalue=np.float64(0.0))\n",
      "PearsonRResult(statistic=np.float32(0.6793312), pvalue=np.float64(0.0))\n"
     ]
    }
   ],
   "source": [
    "for j in range(OUTPUT_SHAPE):\n",
    "    print(pearsonr(y_true_array[:, j], y_predict_array[:, j]))"
   ]
  }
 ],
 "metadata": {
  "kernelspec": {
   "display_name": "Python 3 (ipykernel)",
   "language": "python",
   "name": "python3"
  },
  "language_info": {
   "codemirror_mode": {
    "name": "ipython",
    "version": 3
   },
   "file_extension": ".py",
   "mimetype": "text/x-python",
   "name": "python",
   "nbconvert_exporter": "python",
   "pygments_lexer": "ipython3",
   "version": "3.12.3"
  }
 },
 "nbformat": 4,
 "nbformat_minor": 5
}
