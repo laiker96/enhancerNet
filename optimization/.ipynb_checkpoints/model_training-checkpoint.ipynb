{
 "cells": [
  {
   "cell_type": "code",
   "execution_count": 1,
   "id": "b8a78dee-9f74-4602-80d8-7a6796d5c302",
   "metadata": {
    "tags": []
   },
   "outputs": [],
   "source": [
    "import os\n",
    "from pathlib import Path\n",
    "import numpy as np\n",
    "import torch\n",
    "import torch.nn as nn\n",
    "import torch.optim as optim\n",
    "from torch.utils.data import Dataset, DataLoader\n",
    "import optuna\n",
    "from models import NNModels\n",
    "from models import utils\n",
    "from models import SequenceSignal\n",
    "import matplotlib.pyplot as plt\n",
    "import seaborn as sns\n",
    "import pickle"
   ]
  },
  {
   "cell_type": "code",
   "execution_count": 7,
   "id": "2c68f45c-3ca8-4192-805f-97dc284145c5",
   "metadata": {
    "tags": []
   },
   "outputs": [],
   "source": [
    "# Global variables\n",
    "DEVICE = torch.device(\"cuda\" if torch.cuda.is_available() else \"cpu\")\n",
    "FILE_PREFIX = '../datafiles/all_peaks_dataset'\n",
    "BASE_EXPANDED = 500\n",
    "BATCH_SIZE = 32\n",
    "CRITERION = nn.MSELoss()\n",
    "N_EPOCHS = 10\n",
    "OUTPUT_SHAPE = 32\n",
    "SEQ_LENGTH = 1000\n",
    "N_TEST_EXAMPLES, _, _ = np.load(f'datafiles/{FILE_PREFIX}_test_summits{BASE_EXPANDED}bp_signal_matrix.npy').shape\n",
    "MODEL_CLASS = NNModels.SEConvNet\n",
    "MODEL_TYPE = 'SEConvNet'\n",
    "NUMBER_OF_TRIALS = 200"
   ]
  },
  {
   "cell_type": "code",
   "execution_count": 8,
   "id": "62af1102-5f4b-40df-8cd1-88887fac7116",
   "metadata": {
    "tags": []
   },
   "outputs": [],
   "source": [
    "train_dataset = SequenceSignal.SequenceSignal(f'datafiles/{FILE_PREFIX}_train_summits{BASE_EXPANDED}bp_encoding.npy', \n",
    "                                   f'datafiles/{FILE_PREFIX}_train_summits{BASE_EXPANDED}bp_signal_matrix.npy', \n",
    "                                   device = DEVICE, sqrt_transform = False)\n",
    "\n",
    "test_dataset = SequenceSignal.SequenceSignal(f'datafiles/{FILE_PREFIX}_test_summits{BASE_EXPANDED}bp_encoding.npy', \n",
    "                                  f'datafiles/{FILE_PREFIX}_test_summits{BASE_EXPANDED}bp_signal_matrix.npy', \n",
    "                                  device =  DEVICE, sqrt_transform = False)\n",
    "\n",
    "dataloaders = SequenceSignal.loadDataset(train_dataset, test_dataset, BATCH_SIZE)"
   ]
  },
  {
   "cell_type": "code",
   "execution_count": 9,
   "id": "b32fef77-bb4d-4577-84ed-8836d8481cda",
   "metadata": {
    "tags": []
   },
   "outputs": [
    {
     "name": "stdout",
     "output_type": "stream",
     "text": [
      "SEConvNet(\n",
      "  (convs): ModuleList(\n",
      "    (0): Sequential(\n",
      "      (0): ConvPoolingBlock(\n",
      "        (block): Sequential(\n",
      "          (0): Conv1d(4, 240, kernel_size=(6,), stride=(1,))\n",
      "          (1): MaxPool1d(kernel_size=2, stride=2, padding=0, dilation=1, ceil_mode=False)\n",
      "          (2): Dropout1d(p=0.12155245105460673, inplace=False)\n",
      "          (3): BatchNorm1d(240, eps=1e-05, momentum=0.1, affine=True, track_running_stats=True)\n",
      "          (4): ReLU()\n",
      "        )\n",
      "      )\n",
      "      (1): SqueezeExciteBlock(\n",
      "        (squeeze): AdaptiveAvgPool1d(output_size=1)\n",
      "        (excitation): Sequential(\n",
      "          (0): Linear(in_features=240, out_features=30, bias=False)\n",
      "          (1): ReLU(inplace=True)\n",
      "          (2): Linear(in_features=30, out_features=240, bias=False)\n",
      "          (3): Sigmoid()\n",
      "        )\n",
      "      )\n",
      "    )\n",
      "    (1): Sequential(\n",
      "      (0): ConvPoolingBlock(\n",
      "        (block): Sequential(\n",
      "          (0): Conv1d(240, 256, kernel_size=(7,), stride=(1,))\n",
      "          (1): MaxPool1d(kernel_size=2, stride=2, padding=0, dilation=1, ceil_mode=False)\n",
      "          (2): Dropout1d(p=0.12155245105460673, inplace=False)\n",
      "          (3): BatchNorm1d(256, eps=1e-05, momentum=0.1, affine=True, track_running_stats=True)\n",
      "          (4): ReLU()\n",
      "        )\n",
      "      )\n",
      "      (1): SqueezeExciteBlock(\n",
      "        (squeeze): AdaptiveAvgPool1d(output_size=1)\n",
      "        (excitation): Sequential(\n",
      "          (0): Linear(in_features=256, out_features=64, bias=False)\n",
      "          (1): ReLU(inplace=True)\n",
      "          (2): Linear(in_features=64, out_features=256, bias=False)\n",
      "          (3): Sigmoid()\n",
      "        )\n",
      "      )\n",
      "    )\n",
      "    (2): Sequential(\n",
      "      (0): ConvPoolingBlock(\n",
      "        (block): Sequential(\n",
      "          (0): Conv1d(256, 80, kernel_size=(3,), stride=(1,), dilation=(2,))\n",
      "          (1): MaxPool1d(kernel_size=2, stride=2, padding=0, dilation=1, ceil_mode=False)\n",
      "          (2): Dropout1d(p=0.12155245105460673, inplace=False)\n",
      "          (3): BatchNorm1d(80, eps=1e-05, momentum=0.1, affine=True, track_running_stats=True)\n",
      "          (4): ReLU()\n",
      "        )\n",
      "      )\n",
      "      (1): SqueezeExciteBlock(\n",
      "        (squeeze): AdaptiveAvgPool1d(output_size=1)\n",
      "        (excitation): Sequential(\n",
      "          (0): Linear(in_features=80, out_features=20, bias=False)\n",
      "          (1): ReLU(inplace=True)\n",
      "          (2): Linear(in_features=20, out_features=80, bias=False)\n",
      "          (3): Sigmoid()\n",
      "        )\n",
      "      )\n",
      "    )\n",
      "  )\n",
      "  (fcs): ModuleList(\n",
      "    (0): Linear(in_features=9840, out_features=128, bias=True)\n",
      "    (1): Linear(in_features=128, out_features=224, bias=True)\n",
      "    (2): Linear(in_features=224, out_features=256, bias=True)\n",
      "  )\n",
      "  (drop_fc): Dropout(p=0.11328421094074852, inplace=False)\n",
      "  (output_layer): Linear(in_features=256, out_features=96, bias=True)\n",
      ")\n",
      "Adam (\n",
      "Parameter Group 0\n",
      "    amsgrad: False\n",
      "    betas: (0.9, 0.999)\n",
      "    capturable: False\n",
      "    differentiable: False\n",
      "    eps: 1e-08\n",
      "    foreach: None\n",
      "    fused: None\n",
      "    lr: 0.0010209059676720342\n",
      "    maximize: False\n",
      "    weight_decay: 0\n",
      ")\n"
     ]
    }
   ],
   "source": [
    "optuna_study_dir = Path('optuna_studies')\n",
    "optuna_study_path = optuna_study_dir / Path(f'{MODEL_TYPE}_study_{NUMBER_OF_TRIALS}_trials')\n",
    "\n",
    "with open(f'{optuna_study_path}.pkl', 'rb') as F:\n",
    "    best_params = pickle.load(F)\n",
    "\n",
    "best_params, optimizer_name, lr = utils.extract_params(best_params, model = 'SEConvNet')\n",
    "model = MODEL_CLASS(*best_params, \n",
    "                    output_size = OUTPUT_SHAPE, \n",
    "                    sequence_length = SEQ_LENGTH).to(DEVICE)\n",
    "optimizer = getattr(optim, optimizer_name)(model.parameters(), lr = lr)\n",
    "print(model)\n",
    "print(optimizer)\n"
   ]
  },
  {
   "cell_type": "code",
   "execution_count": 10,
   "id": "a674f40f-af79-43c6-8b42-97ac76b3faeb",
   "metadata": {
    "tags": []
   },
   "outputs": [],
   "source": [
    "model_dir = Path('optuna_studies')\n",
    "model_dir.mkdir(parents = True, exist_ok = True)\n",
    "model_path = model_dir / Path(MODEL_TYPE)"
   ]
  },
  {
   "cell_type": "code",
   "execution_count": 11,
   "id": "7cfbce3f-e2f9-468c-967a-28f95d68df3c",
   "metadata": {
    "tags": []
   },
   "outputs": [
    {
     "name": "stdout",
     "output_type": "stream",
     "text": [
      "Epoch 0 finished with val_loss: 0.07300073098158463 and train_loss: 0.07703226037802843\n",
      "Epoch 1 finished with val_loss: 0.06108111515059136 and train_loss: 0.06567896717753252\n",
      "Epoch 2 finished with val_loss: 0.059904077654937285 and train_loss: 0.059473034617567984\n",
      "Epoch 3 finished with val_loss: 0.05404055494000204 and train_loss: 0.054829900687889295\n",
      "Epoch 4 finished with val_loss: 0.05512846446654294 and train_loss: 0.051837625006867824\n",
      "Epoch 5 finished with val_loss: 0.056982715183403344 and train_loss: 0.049654139293267376\n",
      "Epoch 6 finished with val_loss: 0.06163126038154587 and train_loss: 0.04793959185385151\n",
      "Early stopping! Validation loss hasn't improved for 3 epochs.\n"
     ]
    }
   ],
   "source": [
    "losses = utils.train_N_epochs(model, optimizer, CRITERION, dataloaders[0], \n",
    "                              dataloaders[1], N_EPOCHS, verbose = True, \n",
    "                              checkpoint = True, patience = 3, \n",
    "                              model_path = model_path)"
   ]
  },
  {
   "cell_type": "code",
   "execution_count": 12,
   "id": "a6ed1ae5-4c4f-41da-9051-4e89a2370792",
   "metadata": {
    "tags": []
   },
   "outputs": [
    {
     "data": {
      "image/png": "[encoded data removed]",
      "text/plain": [
       "<Figure size 640x480 with 1 Axes>"
      ]
     },
     "metadata": {},
     "output_type": "display_data"
    }
   ],
   "source": [
    "plt.plot(losses[0])\n",
    "plt.plot(losses[1])\n",
    "plt.show()"
   ]
  },
  {
   "cell_type": "code",
   "execution_count": 13,
   "id": "e1bd86ac-7cad-482a-90cc-d69fca66f7e0",
   "metadata": {
    "tags": []
   },
   "outputs": [
    {
     "data": {
      "text/plain": [
       "<All keys matched successfully>"
      ]
     },
     "execution_count": 13,
     "metadata": {},
     "output_type": "execute_result"
    }
   ],
   "source": [
    "_, test_dataloader = SequenceSignal.loadDataset(train_dataset, test_dataset, \n",
    "                                                BATCH_SIZE, shuffle = False)\n",
    "model.load_state_dict(torch.load(f'{model_path}.pth'))"
   ]
  },
  {
   "cell_type": "code",
   "execution_count": 14,
   "id": "284ec5ad-b921-4cfb-b3ff-56e38ce04741",
   "metadata": {
    "tags": []
   },
   "outputs": [
    {
     "name": "stdout",
     "output_type": "stream",
     "text": [
      "tensor(0.0540, device='cuda:0')\n"
     ]
    }
   ],
   "source": [
    "model.eval()\n",
    "y_predict = torch.zeros((N_TEST_EXAMPLES, OUTPUT_SHAPE[0], OUTPUT_SHAPE[1]), device = DEVICE)\n",
    "y_true = torch.zeros((N_TEST_EXAMPLES, OUTPUT_SHAPE[0], OUTPUT_SHAPE[1]), device = DEVICE)\n",
    "\n",
    "with torch.inference_mode():\n",
    "\n",
    "    for i, data in enumerate(test_dataloader, 0):\n",
    "        inputs, labels = data\n",
    "        y_predict[(i * BATCH_SIZE):(i * BATCH_SIZE + BATCH_SIZE)] = model(inputs).squeeze()\n",
    "        y_true[(i * BATCH_SIZE):(i * BATCH_SIZE + BATCH_SIZE)] = labels.squeeze()\n",
    "\n",
    "y_true_array = y_true.cpu().numpy()\n",
    "y_predict_array = y_predict.cpu().numpy()\n",
    "print(CRITERION(y_predict, y_true))"
   ]
  },
  {
   "cell_type": "code",
   "execution_count": 15,
   "id": "57f42804-d9be-4b8f-80e7-df2ccca58ef3",
   "metadata": {
    "tags": []
   },
   "outputs": [],
   "source": [
    "np.savetxt('true_0.txt', y_true_array[:, 0, :].reshape(-1, 1))\n",
    "np.savetxt('pred_0.txt', y_predict_array[:, 0, :].reshape(-1, 1))\n",
    "\n",
    "np.savetxt('true_1.txt', y_true_array[:, 1, :].reshape(-1, 1))\n",
    "np.savetxt('pred_1.txt', y_predict_array[:, 1, :].reshape(-1, 1))\n",
    "\n",
    "np.savetxt('true_2.txt', y_true_array[:, 2, :].reshape(-1, 1))\n",
    "np.savetxt('pred_2.txt', y_predict_array[:, 2, :].reshape(-1, 1))\n"
   ]
  },
  {
   "cell_type": "code",
   "execution_count": null,
   "id": "edcb8b4d-7dbc-47de-bc61-fe8c14cbab2d",
   "metadata": {},
   "outputs": [],
   "source": []
  }
 ],
 "metadata": {
  "kernelspec": {
   "display_name": "Python 3 (ipykernel)",
   "language": "python",
   "name": "python3"
  },
  "language_info": {
   "codemirror_mode": {
    "name": "ipython",
    "version": 3
   },
   "file_extension": ".py",
   "mimetype": "text/x-python",
   "name": "python",
   "nbconvert_exporter": "python",
   "pygments_lexer": "ipython3",
   "version": "3.10.10"
  }
 },
 "nbformat": 4,
 "nbformat_minor": 5
}
